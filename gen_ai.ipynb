{
 "cells": [
  {
   "cell_type": "code",
   "execution_count": 1,
   "id": "78658abb",
   "metadata": {},
   "outputs": [
    {
     "name": "stdout",
     "output_type": "stream",
     "text": [
      "page_content='Feature: B2_IN_CDI\n",
      "Importance: 0.00667826\n",
      "Relationship: Direct\n",
      "Sl.No: 1\n",
      "Descriptions: \n",
      "Data Visualization: \n",
      ": ' metadata={'source': 'feature_importance.csv', 'row': 0}\n"
     ]
    }
   ],
   "source": [
    "from langchain_community.document_loaders import CSVLoader\n",
    "loader=CSVLoader(\"feature_importance.csv\")\n",
    "csv_doc=loader.load()\n",
    "print(csv_doc[0])"
   ]
  },
  {
   "cell_type": "code",
   "execution_count": null,
   "id": "6c5c048b",
   "metadata": {},
   "outputs": [
    {
     "name": "stdout",
     "output_type": "stream",
     "text": [
      "page_content='DOI: https://doi.org/10.1590/1980-5373-MR-2021-0439\n",
      "Materials Research. 2022; 25:e20210439\n",
      "Artificial Neural Network for Predicting Silicon Content in the Hot Metal Produced in a \n",
      "Blast Furnace Fueled by Metallurgical Coke\n",
      "Wandercleiton Cardosoa* , Renzo di Felicea, Raphael Colombo Baptistab\n",
      "aUniversità degli Studi di Genova, Department of Civil, Chemical and Environmental Engineering, \n",
      "Genoa, Italy.\n",
      "bInstituto Federal do Espírito Santo, Vitória, ES, Brasil.\n",
      "Received: August 31, 2021; Revised: November 02, 2021; Accepted: December 03, 2021\n",
      "The main production route for cast iron and steel is through the blast furnace. The silicon content \n",
      "in cast iron is an important indicator of the thermal condition of a blast furnace. High silicon contents \n",
      "indicate an increase in the furnace’s thermal input and, in some cases, may indicate an excess of coke \n",
      "in the reactor. As coke costs predominate in the production of cast iron, tighter control of the silicon \n",
      "content therefore has economic advantages. The main objective of this article was to design an artificial \n",
      "neural network to predict the silicon content in hot metal, varying the number of neurons in the \n",
      "hidden layer by 10, 20, 25, 30, 40, 50, 75, 100, 125 , 150, 170 and 200 neurons. In general, all neural \n",
      "networks showed excellent results, with the network with 30 neurons showing the best results among \n",
      "the 12 modeled networks. The validation of the models was confirmed using the Mean Square Error \n",
      "(MSE) and Pearson’s correlation coefficient. The cross-validation technique was used to re-evaluate \n",
      "the performance of neural networks. In short, neural networks can be used in practical operations \n",
      "due to the excellent correlations between the real values   and those calculated by the neural network.\n",
      "Keywords: Slag, Silicon, Blast furnace, Statistical analysis, Artificial neural network.\n",
      "1. Introduction\n",
      "The main route for the production of cast iron and steel is \n",
      "through the blast furnace. Steel is generally produced in two \n",
      "steps: First, the pig iron, also called hot metal, is obtained, \n",
      "which consists mainly of iron, a high carbon content (about \n",
      "4.5%), and impurities such as sulfur, phosphorus, and silicon1-3\n",
      ".\n",
      "Hot metal is usually produced in a blast furnace, although \n",
      "a chemically similar but spongy-looking material can be \n",
      "obtained by the process of direct reduction, which is then \n",
      "used in a similar way to the hot metal produced in a blast \n",
      "furnace. However, this article is about the control of silicon \n",
      "in blast furnaces fed with metallurgical coke4-6.\n",
      "The blast furnace is fed from the top with lump iron ore, \n",
      "sinter, pellets, fluxes such as dolomite and limestone, and \n",
      "a fuel called metallurgical coke. Hot air is blown into the \n",
      "furnace from the bottom, through the tuyeres. Fuels such \n",
      "as pulverized coal, biogas and natural gas are also injected \n",
      "into this area. A part of the blast furnace gas is burned in the \n",
      "hot stoves to heat the air jet entering the furnace to about \n",
      "1050°C. The air jet is enriched with oxygen7-10.\n",
      "The physicochemical interactions gas-solid, solid-solid \n",
      "and liquid-liquid occur in different zones of the blast furnace. \n",
      "The hot air combines with the descending glowing coke \n",
      "to produce carbon monoxide gas and release the energy \n",
      "needed to raise the internal temperature of the blast furnace \n",
      "by about 1б50°C10-14.\n",
      "The hot metal and molten slag are removed from the \n",
      "bottom of the furnace and sent to the steel mill for further \n",
      "processing10.\n",
      "However, during hot metal production it is necessary to \n",
      "control the impurities of the hot metal, especially silicon. \n",
      "Hot metal with excess silicon is harmful to the secondary \n",
      "refining process in the steelworks. The final concentration \n",
      "of the hot metal in terms of impurities such as silicon is the \n",
      "result of the equilibrium between the iron phase and the slag \n",
      "phase as the iron droplets percolate through the slag phase15.\n",
      "The silicon content in the cast iron is an important \n",
      "indicator of the thermal condition of a blast furnace and \n",
      "can therefore reflect the quality of the steel. High values of \n",
      "silicon content indicate increased heat input to the furnace \n",
      "and in some cases may indicate excess coke in the furnace. \n",
      "Since coke costs predominate in the production of cast \n",
      "iron, tighter control of silicon content therefore clearly has \n",
      "economic advantages7,15-19.\n",
      "In the field of complex process simulation, the application \n",
      "of solutions based on neural networks has become popular \n",
      "due to their versatility and possibility of development, as well \n",
      "as the greater reliability of the responses, since the neural \n",
      "network receives new data during the training process20,21.\n",
      "Artificial neural networks are computational models \n",
      "that have a number of artificial neurons and mimic the \n",
      "functioning of a human biological neuron. The main feature \n",
      "of this technique is its ability to learn and solve problems \n",
      "that are not linearly separable using information from the \n",
      "environment in which it operates22-25.\n",
      "The basic unit of the neural network is the artificial \n",
      "neuron, which can be divided into input signal, synaptic \n",
      "weight, bias, sum, activation function, and neuron output. \n",
      "These functions mimic the functioning of the human brain *e-mail: wandercleiton.cardoso@dicca.unige.it' metadata={'producer': 'Adobe PDF Library 15.0', 'creator': 'Adobe InDesign 16.1 (Windows)', 'creationdate': '2022-01-18T11:05:02-03:00', 'moddate': '2022-01-18T11:05:05-03:00', 'trapped': '/False', 'source': 'ann model.pdf', 'total_pages': 11, 'page': 0, 'page_label': '1'}\n"
     ]
    }
   ],
   "source": [
    "from langchain_community.document_loaders import PyPDFLoader  # install pypdf\n",
    "loader = PyPDFLoader(\"ann model.pdf\")\n",
    "pdf_doc=loader.load()\n",
    "print(pdf_doc[0])"
   ]
  },
  {
   "cell_type": "code",
   "execution_count": 10,
   "id": "68709cda",
   "metadata": {},
   "outputs": [],
   "source": [
    "from langchain_text_splitters import RecursiveCharacterTextSplitter\n",
    "text_splitter=RecursiveCharacterTextSplitter()\n",
    "chunk=text_splitter.split_documents(pdf_doc)"
   ]
  },
  {
   "cell_type": "code",
   "execution_count": 12,
   "id": "a5bdaae4",
   "metadata": {},
   "outputs": [
    {
     "data": {
      "text/plain": [
       "Document(metadata={'producer': 'Adobe PDF Library 15.0', 'creator': 'Adobe InDesign 16.1 (Windows)', 'creationdate': '2022-01-18T11:05:02-03:00', 'moddate': '2022-01-18T11:05:05-03:00', 'trapped': '/False', 'source': 'ann model.pdf', 'total_pages': 11, 'page': 0, 'page_label': '1'}, page_content='result of the equilibrium between the iron phase and the slag \\nphase as the iron droplets percolate through the slag phase15.\\nThe silicon content in the cast iron is an important \\nindicator of the thermal condition of a blast furnace and \\ncan therefore reflect the quality of the steel. High values of \\nsilicon content indicate increased heat input to the furnace \\nand in some cases may indicate excess coke in the furnace. \\nSince coke costs predominate in the production of cast \\niron, tighter control of silicon content therefore clearly has \\neconomic advantages7,15-19.\\nIn the field of complex process simulation, the application \\nof solutions based on neural networks has become popular \\ndue to their versatility and possibility of development, as well \\nas the greater reliability of the responses, since the neural \\nnetwork receives new data during the training process20,21.\\nArtificial neural networks are computational models \\nthat have a number of artificial neurons and mimic the \\nfunctioning of a human biological neuron. The main feature \\nof this technique is its ability to learn and solve problems \\nthat are not linearly separable using information from the \\nenvironment in which it operates22-25.\\nThe basic unit of the neural network is the artificial \\nneuron, which can be divided into input signal, synaptic \\nweight, bias, sum, activation function, and neuron output. \\nThese functions mimic the functioning of the human brain *e-mail: wandercleiton.cardoso@dicca.unige.it')"
      ]
     },
     "execution_count": 12,
     "metadata": {},
     "output_type": "execute_result"
    }
   ],
   "source": [
    "chunk[1]"
   ]
  },
  {
   "cell_type": "code",
   "execution_count": 14,
   "id": "3de1f095",
   "metadata": {},
   "outputs": [
    {
     "name": "stdout",
     "output_type": "stream",
     "text": [
      "page_content='Cardoso et al.2\n",
      "Materials Research\n",
      "and make it possible to reproduce the synaptic communication \n",
      "between neurons2,3,10,26.\n",
      "From the analysis of Figure 1, it can be concluded that \n",
      "xj represents the input of the network; wki represents the \n",
      "synaptic weight, where k is the neuron number and j is the \n",
      "input stimulus; bk represents the weight parameter (bias); f(.) \n",
      "represents the activation function of the neuron; uk represents \n",
      "the linear combination of the input signals; and yk represents \n",
      "the output response of the neuron.\n",
      "The most common artificial neural network architectures \n",
      "are single-layer feed-forward networks, multilayer feed-\n",
      "forward networks, recurrent networks, and lattice networks2,27. \n",
      "In this paper, a single-layer feedforward architecture with a \n",
      "sigmoid activation function and the Levenberg-Marquardt \n",
      "training algorithm was chosen. Figure 2 shows a single-layer \n",
      "feedforward neural network.\n",
      "In this type of architecture, the input layer is directly \n",
      "connected to one or more neurons that generate the output \n",
      "response. This type of architecture is used to solve classification \n",
      "and pattern problems. Perceptron and Adaline neural networks \n",
      "work with feedforward architecture.\n",
      "Defining the topology of an artificial neural network \n",
      "(ANN) is not a trivial task, as it is usually determined on \n",
      "the basis of past experience and trial-and-error processes. \n",
      "According to the literature, several authors suggest that \n",
      "one or two layers are sufficient for modeling metallurgical \n",
      "problems. Only one hidden layer, using a sigmoid-type \n",
      "activation function, is sufficient for the network to converge \n",
      "to good results as long as there are enough input variables \n",
      "to train the algorithm2,16,28.\n",
      "The Levenberb-Marquardt (LM) is algorithm for \n",
      "approximating the minimum error function by Newton’s \n",
      "method. This approximation is described by Equation 1.\n",
      "( ) ( ) ( ) ( )\n",
      "1\n",
      " Tx J xJx I Jx e x µ\n",
      "−∆= +   (1)\n",
      "Where, (𝐼) is the identity matrix, (𝑒(𝑥)) represents the error, \n",
      "and (𝐽) corresponds to the Jacobian matrix.\n",
      "Considering all the context presented so far, the main \n",
      "objective of this paper was to model 12 different artificial \n",
      "neural networks to find out what is the ideal number of \n",
      "neurons in the hidden layer that gives the best results for \n",
      "predicting the silicon content in the hot metal. The number \n",
      "Figure 1. Artificial neuron.\n",
      "Figure 2. Feed-forward single-layer artificial neural network.' metadata={'producer': 'Adobe PDF Library 15.0', 'creator': 'Adobe InDesign 16.1 (Windows)', 'creationdate': '2022-01-18T11:05:02-03:00', 'moddate': '2022-01-18T11:05:05-03:00', 'trapped': '/False', 'source': 'ann model.pdf', 'total_pages': 11, 'page': 1, 'page_label': '2'}\n"
     ]
    }
   ],
   "source": [
    "from langchain_text_splitters import CharacterTextSplitter\n",
    "text_splitter1=CharacterTextSplitter()\n",
    "chunk1=text_splitter1.split_documents(csv_doc)\n",
    "print(chunk[2])"
   ]
  },
  {
   "cell_type": "markdown",
   "id": "1dea570d",
   "metadata": {},
   "source": [
    "# WikipediaRetriever"
   ]
  },
  {
   "cell_type": "code",
   "execution_count": 16,
   "id": "a82f912c",
   "metadata": {},
   "outputs": [],
   "source": [
    "#\"Please install it with `pip install wikipedia`.\"\n",
    "from langchain_community.retrievers import WikipediaRetriever\n",
    "retriver=WikipediaRetriever(top_k_results=2,lang='en')\n",
    "query=\"What is the reason of Bihar's poority\"\n",
    "docs=retriver.invoke(query)"
   ]
  },
  {
   "cell_type": "code",
   "execution_count": 17,
   "id": "27290be7",
   "metadata": {},
   "outputs": [
    {
     "name": "stdout",
     "output_type": "stream",
     "text": [
      "page_content='Lalu Prasad (born 11 June 1948) is an Indian politician who served as the chief minister of Bihar from 1990 to 1997 with a brief interruption in 1995 and as the union minister for Railways from 2004 to 2009. He is the founder and president of the Rashtriya Janata Dal (RJD) a prominent political party in Bihar. He is also a former member of Parliament (MP) of the Lok Sabha and Rajya Sabha.\n",
      "Lalu Prasad Yadav is often regarded as a political messiah for the lower castes in Bihar, particularly the Other Backward Classes (OBCs), Scheduled Castes (SCs), and Muslim communities. His political rise in the 1990s marked a significant shift in Bihar's social and political landscape, which had long been dominated by upper-caste elites.\n",
      "He entered politics at Patna University as a student leader and, in 1977, was elected as one of the youngest members of the Lok Sabha for the Bharatiya Lok Dal of the Janata Alliance. He became the chief minister of Bihar in 1990. His party came to power in the 2015 Bihar Legislative Assembly election in coalition with Nitish Kumar of JD(U). The coalition ended when Nitish resigned and the RJD was ousted, becoming the opposition party. \n",
      "In the 2020 Bihar Legislative Assembly election, the RJD remained the single largest party in Bihar, and along with JD(U) in power after JD(U) rejoined MGB in 2022, headed the government until JD(U) returned to NDA. \n",
      "Lalu was convicted in the controversial Fodder Scam, and was serving a term until 17 April 2021, when he was granted bail from the High Court.\n",
      "\n",
      "\n",
      "== Early life and education ==\n",
      "Lalu Prasad, the fifth of six sons born to Kundan Rai and Marachhiya Devi, was born on 11 June 1948, in Phulwaria village, situated along the Gopalganj-Kushinagar highway (NH-27) in Gopalganj district of Bihar. He started his education at a local middle school before moving to Patna with his older brother, Mukund Rai, who enrolled him in an upper primary school in Sheikhpura. After finishing his primary education there, he was enrolled in the Government Middle School located on the Bihar Military Police (BMP) campus, which was next to their quarters at the veterinary college campus.\n",
      "\n",
      "\n",
      "=== Siblings ===\n",
      "The siblings list is in the order of age.\n",
      "\n",
      "Mangru Rai (eldest)\n",
      "Gulab Rai\n",
      "Mukund Rai\n",
      "Mahavir Rai\n",
      "Gangotri Devi (lone sister)\n",
      "Lalu Prasad (himself only alive)\n",
      "Sukhdeo Rai (youngest)\n",
      "His father died after he completed his matriculation in 1965 from Miller High School in Patna, where he was also a passionate footballer. He changed its name to Devipad Choudhary Shaheed Smarak (Miller) Ucchya Madhyamik Vidyalaya in honour of Devipad Choudhary, who was a freedom fighter and student of the same school. He was also a NCC cadet, there. According to his Lok Sabha affidavit, he obtained his I.A. (Arts) from B.N. College of Patna University the following year. However, it is noteworthy that B.N. College does not offer this course, and the program typically spans two years, yet he claims to have completed it in the same year, he got enrolled there. After earning his Bachelor of Arts degree, he worked as a clerk at Bihar Veterinary College in Patna, where his eldest brother was employed as a peon. During his time there, he served as the general secretary of the Patna University Students' Union from 1970 to 1971 and later became its President from 1973 to 1974. He later earned his L.L.B. degree from Patna Law College in 1976. He turned down Patna University's Honorary Doctorate in 2004.\n",
      "Lalu Prasad asserts that he belongs to the Yadav caste; however, Bihar's deputy chief minister, Samrat Choudhary, Jitan Ram Manjhi,among others, have alleged that his actual caste is Gaderia.\n",
      "\n",
      "\n",
      "== Personal life and family ==\n",
      "\n",
      "Lalu Prasad Yadav married Rabri Devi on 1 June 1973, in an arranged marriage, and they went on to have seven daughters and two sons. \n",
      "The siblings list is in the order of age :-\n",
      "\n",
      "Misa Bharti\n",
      "Rohini Acharya - married to Samaresh Singh\n",
      "Chanda Singh - married to Vikram Singh in 2006, a pilot in Indian Airlin' metadata={'title': 'Lalu Prasad Yadav', 'summary': \"Lalu Prasad (born 11 June 1948) is an Indian politician who served as the chief minister of Bihar from 1990 to 1997 with a brief interruption in 1995 and as the union minister for Railways from 2004 to 2009. He is the founder and president of the Rashtriya Janata Dal (RJD) a prominent political party in Bihar. He is also a former member of Parliament (MP) of the Lok Sabha and Rajya Sabha.\\nLalu Prasad Yadav is often regarded as a political messiah for the lower castes in Bihar, particularly the Other Backward Classes (OBCs), Scheduled Castes (SCs), and Muslim communities. His political rise in the 1990s marked a significant shift in Bihar's social and political landscape, which had long been dominated by upper-caste elites.\\nHe entered politics at Patna University as a student leader and, in 1977, was elected as one of the youngest members of the Lok Sabha for the Bharatiya Lok Dal of the Janata Alliance. He became the chief minister of Bihar in 1990. His party came to power in the 2015 Bihar Legislative Assembly election in coalition with Nitish Kumar of JD(U). The coalition ended when Nitish resigned and the RJD was ousted, becoming the opposition party. \\nIn the 2020 Bihar Legislative Assembly election, the RJD remained the single largest party in Bihar, and along with JD(U) in power after JD(U) rejoined MGB in 2022, headed the government until JD(U) returned to NDA. \\nLalu was convicted in the controversial Fodder Scam, and was serving a term until 17 April 2021, when he was granted bail from the High Court.\\n\\n\", 'source': 'https://en.wikipedia.org/wiki/Lalu_Prasad_Yadav'}\n"
     ]
    }
   ],
   "source": [
    "print(docs[1])"
   ]
  },
  {
   "cell_type": "markdown",
   "id": "14066a2e",
   "metadata": {},
   "source": [
    "# vector store retriver"
   ]
  },
  {
   "cell_type": "code",
   "execution_count": null,
   "id": "21e37a17",
   "metadata": {},
   "outputs": [],
   "source": []
  }
 ],
 "metadata": {
  "kernelspec": {
   "display_name": "venv",
   "language": "python",
   "name": "python3"
  },
  "language_info": {
   "codemirror_mode": {
    "name": "ipython",
    "version": 3
   },
   "file_extension": ".py",
   "mimetype": "text/x-python",
   "name": "python",
   "nbconvert_exporter": "python",
   "pygments_lexer": "ipython3",
   "version": "3.10.9"
  }
 },
 "nbformat": 4,
 "nbformat_minor": 5
}
